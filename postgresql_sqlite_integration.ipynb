{
 "cells": [
  {
   "cell_type": "code",
   "execution_count": 1,
   "id": "55acb70c-8681-4c5f-bbc9-eafb44cec290",
   "metadata": {},
   "outputs": [],
   "source": [
    "import sqlite3\n",
    "import pandas as pd"
   ]
  },
  {
   "cell_type": "code",
   "execution_count": 3,
   "id": "08c03d34-abec-4025-bbd5-56603d6e7829",
   "metadata": {},
   "outputs": [
    {
     "data": {
      "text/plain": [
       "<sqlite3.Cursor at 0x2173e5134c0>"
      ]
     },
     "execution_count": 3,
     "metadata": {},
     "output_type": "execute_result"
    }
   ],
   "source": [
    "# Connect to SQLite (this will create the database file if it doesn't exist)\n",
    "conn = sqlite3.connect('D:/project3/GDP-per-capita-project/cleaned_data.db')  \n",
    "cursor = conn.cursor()\n",
    "\n",
    "# Create the table if it doesn't exist\n",
    "cursor.execute('''\n",
    "CREATE TABLE IF NOT EXISTS merged_data (\n",
    "    Country_Name TEXT,\n",
    "    Country_Code TEXT,\n",
    "    Year INTEGER,\n",
    "    GDP_per_capita REAL,\n",
    "    GINI_index REAL,\n",
    "    Health_spending_per_capita REAL\n",
    ")\n",
    "''')\n"
   ]
  },
  {
   "cell_type": "code",
   "execution_count": 5,
   "id": "1ecce122-7b55-46d3-b0af-d1ed2e03d90b",
   "metadata": {},
   "outputs": [
    {
     "name": "stdout",
     "output_type": "stream",
     "text": [
      "[('Argentina', 'ARG', 2002, 2569.69963519124, 53.8, 222.64750671), ('Armenia', 'ARM', 2002, 742.651118319819, 34.8, 58.0), ('Austria', 'AUT', 2002, 26334.862215032, None, 2498.0), ('Belgium', 'BEL', 2002, 25006.191397109, None, 2084.7199707), ('Bulgaria', 'BGR', 2002, 2092.98288625558, None, 148.0)]\n",
      "Data inserted successfully into SQLite database!\n"
     ]
    }
   ],
   "source": [
    "# Step 3: Load the cleaned merged dataset (CSV file)\n",
    "merged_data = pd.read_csv('D:/project3/GDP-per-capita-project/Cleaned_data/merged_data_2002_2022.csv')\n",
    "\n",
    "# Insert the data into the SQLite table\n",
    "merged_data.to_sql('merged_data', conn, if_exists='replace', index=False)\n",
    "\n",
    "# Confirm the data insertion by fetching the first 5 rows\n",
    "cursor.execute('SELECT * FROM merged_data LIMIT 5')\n",
    "print(cursor.fetchall())\n",
    "\n",
    "# Commit and close the connection\n",
    "conn.commit()\n",
    "conn.close()\n",
    "\n",
    "print(\"Data inserted successfully into SQLite database!\")\n"
   ]
  },
  {
   "cell_type": "code",
   "execution_count": null,
   "id": "cae00e9a-d3a0-470f-ad5f-1d4966d9e01a",
   "metadata": {},
   "outputs": [],
   "source": []
  }
 ],
 "metadata": {
  "kernelspec": {
   "display_name": "Python [conda env:base] *",
   "language": "python",
   "name": "conda-base-py"
  },
  "language_info": {
   "codemirror_mode": {
    "name": "ipython",
    "version": 3
   },
   "file_extension": ".py",
   "mimetype": "text/x-python",
   "name": "python",
   "nbconvert_exporter": "python",
   "pygments_lexer": "ipython3",
   "version": "3.12.7"
  }
 },
 "nbformat": 4,
 "nbformat_minor": 5
}
