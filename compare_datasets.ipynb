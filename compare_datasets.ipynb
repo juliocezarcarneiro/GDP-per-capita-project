{
 "cells": [
  {
   "cell_type": "code",
   "execution_count": 21,
   "id": "d0e6f5c7-a4bb-4bac-b1cd-b0fd9f891403",
   "metadata": {},
   "outputs": [
    {
     "name": "stdout",
     "output_type": "stream",
     "text": [
      "🔹 Shape of First Dataset (rows, columns): (5565, 7)\n",
      "\n",
      "🔹 Columns in the dataset:\n",
      "['Country Name', 'Country Code', 'Year', 'GDP_per_capita', 'Health_spending_per_capita', 'GINI_index', 'Population']\n",
      "\n",
      "🔹 Count of non-null values in each column:\n",
      "Country Name                  5565\n",
      "Country Code                  5565\n",
      "Year                          5565\n",
      "GDP_per_capita                5367\n",
      "Health_spending_per_capita    4664\n",
      "GINI_index                    1017\n",
      "Population                    5565\n",
      "dtype: int64\n"
     ]
    }
   ],
   "source": [
    "# First Dataset: Load first cleaned dataset\n",
    "import pandas as pd\n",
    "\n",
    "# Correct file path to the JSON file\n",
    "file_path_1 = \"D:/project3/GDP-per-capita-project/Cleaned_data/merged_data_2002_2022_final.json\"\n",
    "\n",
    "# Load the JSON file\n",
    "first_df = pd.read_json(file_path_1)\n",
    "\n",
    "# Display the number of rows and columns\n",
    "print(\"🔹 Shape of First Dataset (rows, columns):\", first_df.shape)\n",
    "\n",
    "# Display the column names\n",
    "print(\"\\n🔹 Columns in the dataset:\")\n",
    "print(first_df.columns.tolist())\n",
    "\n",
    "# Check how many non-null (non-missing) values each column has\n",
    "print(\"\\n🔹 Count of non-null values in each column:\")\n",
    "print(first_df.notnull().sum())\n",
    "\n"
   ]
  },
  {
   "cell_type": "code",
   "execution_count": 23,
   "id": "88d22e02-d944-4e50-a4a4-2f0246bfc0e8",
   "metadata": {},
   "outputs": [
    {
     "data": {
      "text/plain": [
       "{'Countries with GDP data': 256,\n",
       " 'Countries with Health Spending data': 233,\n",
       " 'Countries with GINI Index data': 53,\n",
       " 'Countries with Population data': 265}"
      ]
     },
     "execution_count": 23,
     "metadata": {},
     "output_type": "execute_result"
    }
   ],
   "source": [
    "# Load the first dataset again\n",
    "file_path_1 = \"D:/project3/GDP-per-capita-project/Cleaned_data/merged_data_2002_2022_final.json\"\n",
    "first_df = pd.read_json(file_path_1)\n",
    "\n",
    "# Count of unique countries that have non-null values per indicator\n",
    "country_gdp = first_df[first_df[\"GDP_per_capita\"].notnull()][\"Country Name\"].nunique()\n",
    "country_health = first_df[first_df[\"Health_spending_per_capita\"].notnull()][\"Country Name\"].nunique()\n",
    "country_gini = first_df[first_df[\"GINI_index\"].notnull()][\"Country Name\"].nunique()\n",
    "country_pop = first_df[first_df[\"Population\"].notnull()][\"Country Name\"].nunique()\n",
    "\n",
    "# Prepare result\n",
    "indicator_countries = {\n",
    "    \"Countries with GDP data\": country_gdp,\n",
    "    \"Countries with Health Spending data\": country_health,\n",
    "    \"Countries with GINI Index data\": country_gini,\n",
    "    \"Countries with Population data\": country_pop\n",
    "}\n",
    "\n",
    "indicator_countries"
   ]
  },
  {
   "cell_type": "code",
   "execution_count": 27,
   "id": "26e54f4e-a80b-4ffe-b7df-21cbf07b0181",
   "metadata": {},
   "outputs": [
    {
     "name": "stdout",
     "output_type": "stream",
     "text": [
      "🔹 Shape of Second Dataset (rows, columns): (5669, 8)\n",
      "\n",
      "🔹 Columns in the dataset:\n",
      "['Country', 'Code', 'Year', 'GDP per Capita', 'Health_Expenditure', 'Gini_Coefficient', 'Income Class', 'Population density per square kilometer']\n",
      "\n",
      "🔹 Count of non-null values in each column:\n",
      "Country                                    5669\n",
      "Code                                       5669\n",
      "Year                                       5669\n",
      "GDP per Capita                             5669\n",
      "Health_Expenditure                         5669\n",
      "Gini_Coefficient                           5669\n",
      "Income Class                               5669\n",
      "Population density per square kilometer    5669\n",
      "dtype: int64\n"
     ]
    }
   ],
   "source": [
    "# Second Dataset: Load 2nd cleaned CSV\n",
    "import pandas as pd\n",
    "\n",
    "# Fixed path to handle space in \"Project 3\" folder\n",
    "file_path_2 = \"D:/project3/GDP-per-capita-project/Project 3/data/all_countries_final_data.csv\"\n",
    "\n",
    "# Load the CSV file\n",
    "second_df = pd.read_csv(file_path_2)\n",
    "\n",
    "# Display number of rows and columns\n",
    "print(\"🔹 Shape of Second Dataset (rows, columns):\", second_df.shape)\n",
    "\n",
    "# Display all column names\n",
    "print(\"\\n🔹 Columns in the dataset:\")\n",
    "print(second_df.columns.tolist())\n",
    "\n",
    "# Count non-null values in each column\n",
    "print(\"\\n🔹 Count of non-null values in each column:\")\n",
    "print(second_df.notnull().sum())\n"
   ]
  },
  {
   "cell_type": "code",
   "execution_count": 29,
   "id": "56bded7f-ee0b-4552-9d86-59959a5ebd8b",
   "metadata": {},
   "outputs": [
    {
     "data": {
      "text/plain": [
       "{'Countries with GDP data': 238,\n",
       " 'Countries with Health Spending data': 238,\n",
       " 'Countries with GINI Index data': 238,\n",
       " 'Countries with Population Density data': 238}"
      ]
     },
     "execution_count": 29,
     "metadata": {},
     "output_type": "execute_result"
    }
   ],
   "source": [
    "# Load the second dataset (classmate's file)\n",
    "second_path = \"D:/project3/GDP-per-capita-project/Project 3/data/all_countries_final_data.csv\"\n",
    "second_df = pd.read_csv(second_path)\n",
    "\n",
    "# Count how many unique countries have data for each important indicator\n",
    "indicator_countries_2 = {\n",
    "    \"Countries with GDP data\": second_df[second_df[\"GDP per Capita\"].notnull()][\"Country\"].nunique(),\n",
    "    \"Countries with Health Spending data\": second_df[second_df[\"Health_Expenditure\"].notnull()][\"Country\"].nunique(),\n",
    "    \"Countries with GINI Index data\": second_df[second_df[\"Gini_Coefficient\"].notnull()][\"Country\"].nunique(),\n",
    "    \"Countries with Population Density data\": second_df[second_df[\"Population density per square kilometer\"].notnull()][\"Country\"].nunique()\n",
    "}\n",
    "\n",
    "indicator_countries_2"
   ]
  },
  {
   "cell_type": "code",
   "execution_count": 45,
   "id": "b2c865d7-f0d4-4e4d-b654-e8b40a5fb051",
   "metadata": {},
   "outputs": [
    {
     "data": {
      "text/html": [
       "<div>\n",
       "<style scoped>\n",
       "    .dataframe tbody tr th:only-of-type {\n",
       "        vertical-align: middle;\n",
       "    }\n",
       "\n",
       "    .dataframe tbody tr th {\n",
       "        vertical-align: top;\n",
       "    }\n",
       "\n",
       "    .dataframe thead th {\n",
       "        text-align: right;\n",
       "    }\n",
       "</style>\n",
       "<table border=\"1\" class=\"dataframe\">\n",
       "  <thead>\n",
       "    <tr style=\"text-align: right;\">\n",
       "      <th></th>\n",
       "      <th>Indicator</th>\n",
       "      <th>1st Dataset</th>\n",
       "      <th>2nd Dataset</th>\n",
       "    </tr>\n",
       "  </thead>\n",
       "  <tbody>\n",
       "    <tr>\n",
       "      <th>0</th>\n",
       "      <td>GDP</td>\n",
       "      <td>256</td>\n",
       "      <td>238</td>\n",
       "    </tr>\n",
       "    <tr>\n",
       "      <th>1</th>\n",
       "      <td>Health Spending</td>\n",
       "      <td>233</td>\n",
       "      <td>238</td>\n",
       "    </tr>\n",
       "    <tr>\n",
       "      <th>2</th>\n",
       "      <td>GINI Index</td>\n",
       "      <td>53</td>\n",
       "      <td>238</td>\n",
       "    </tr>\n",
       "    <tr>\n",
       "      <th>3</th>\n",
       "      <td>Population</td>\n",
       "      <td>265</td>\n",
       "      <td>238</td>\n",
       "    </tr>\n",
       "  </tbody>\n",
       "</table>\n",
       "</div>"
      ],
      "text/plain": [
       "         Indicator  1st Dataset   2nd Dataset\n",
       "0              GDP           256          238\n",
       "1  Health Spending           233          238\n",
       "2       GINI Index            53          238\n",
       "3       Population           265          238"
      ]
     },
     "execution_count": 45,
     "metadata": {},
     "output_type": "execute_result"
    }
   ],
   "source": [
    "import pandas as pd\n",
    "\n",
    "# Data from first dataset \n",
    "first_dataset_indicators = {\n",
    "    \"GDP\": 256,\n",
    "    \"Health Spending\": 233,\n",
    "    \"GINI Index\": 53,\n",
    "    \"Population\": 265\n",
    "}\n",
    "\n",
    "# Data from second dataset\n",
    "second_dataset_indicators = {\n",
    "    \"GDP\": 238,\n",
    "    \"Health Spending\": 238,\n",
    "    \"GINI Index\": 238,\n",
    "    \"Population\": 238  # This is population density\n",
    "}\n",
    "\n",
    "# Combine into a comparison DataFrame\n",
    "comparison_df = pd.DataFrame({\n",
    "    \"Indicator\": list(first_dataset_indicators.keys()),\n",
    "    \"1st Dataset \": list(first_dataset_indicators.values()),\n",
    "    \"2nd Dataset\": list(second_dataset_indicators.values())\n",
    "})\n",
    "\n",
    "# Show the comparison\n",
    "comparison_df\n"
   ]
  }
 ],
 "metadata": {
  "kernelspec": {
   "display_name": "Python [conda env:base] *",
   "language": "python",
   "name": "conda-base-py"
  },
  "language_info": {
   "codemirror_mode": {
    "name": "ipython",
    "version": 3
   },
   "file_extension": ".py",
   "mimetype": "text/x-python",
   "name": "python",
   "nbconvert_exporter": "python",
   "pygments_lexer": "ipython3",
   "version": "3.12.7"
  }
 },
 "nbformat": 4,
 "nbformat_minor": 5
}
